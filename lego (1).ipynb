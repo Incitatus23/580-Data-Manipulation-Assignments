{
 "cells": [
  {
   "cell_type": "markdown",
   "metadata": {},
   "source": [
    "# DTSC 580: Data Manipulation\n",
    "## Assignment: LEGO Project\n",
    "### Name: "
   ]
  },
  {
   "cell_type": "markdown",
   "metadata": {},
   "source": [
    "![LegoSchema](Lego_Schema.PNG)"
   ]
  },
  {
   "cell_type": "markdown",
   "metadata": {},
   "source": [
    "## Overview\n",
    "\n",
    "In this assignment, you will load the various tables from the [Rebrickable](https://rebrickable.com/) website and perform analysis on the data.  Rebrickable is a fantastic website that is used to show you which LEGO sets you can build from the sets and parts you already own.  They will even show you which parts you are missing to complete the new set and suggest sets that you could purchase to get those parts.  \n",
    "\n",
    "## Data\n",
    "\n",
    "The data has been downloaded directly from their website and includes files for the tables shown in the schema above.  Your first task will be to go through the data and review the schema to understand how the tables all fit together.  There is no data dictionary that I am aware of, but you should be able to understand this data by reviewing the files and schema and visiting their [Download](https://rebrickable.com/downloads/) page and [API](https://rebrickable.com/api/) documentation.  **Note that you must use the files downloaded from Brightspace for this assignment and not download new files from the Rebrickable website.**\n",
    "\n",
    "## Assignment\n",
    "\n",
    "In this assignment, you will create a number of functions to complete certain tasks.  This is not needed if you were working on this project on your own, but since we want to see if you can select the data via Pandas/Numpy, we will use those functions in the automatic grading in CodeGrade.  Without this, students could try to look up the answers in the `csv` files instead of wrangling the data with Python/Pandas, which would defeat the purpose of this class.\n",
    "\n",
    "In addition, we would strongly suggest that you merge data sets as appropriate for the given task.  For example, you might merge the `sets` and `themes` DataFrames to answer one question, and then merge `sets`, `inventories`, `inventory_minifigs`, and `minifigs` to answer another.  This will make your code much easier to write and will be key in working with data across multiple tables.  In fact, I was able to create each function with only one line of code because of the merging of certain data sets.  Also note that you may not use all the tables in this assignment.  This is also an important skill for a Data Scientist to know when to use data and what data is unnecessary.\n",
    "\n",
    "When complete, save your notebook as `lego.ipynb` and submit to CodeGrade for automatic grading.\n",
    "\n",
    "## Note\n",
    "\n",
    "<u>Show Work</u>\n",
    "\n",
    "Remember that you must show your work.  Students submissions are spot checked manually throughout the term to verify that they are not hard coding the answer from looking only in the file or in CodeGrade's expected output.  If this is seen, the student's answer will be manually marked wrong and their grade will be changed to reflect this. \n",
    "\n",
    "For example, if the answer to Q1, the mean of a specific column, is 22:\n",
    "```\n",
    "# correct way\n",
    "Q1 = df['column_name'].mean()\n",
    "\n",
    "# incorrect way\n",
    "Q1 = 22 \n",
    "```\n",
    "\n",
    "Let's start out by importing some standard imports."
   ]
  },
  {
   "cell_type": "code",
   "execution_count": 65,
   "metadata": {},
   "outputs": [],
   "source": [
    "# common imports\n",
    "import pandas as pd\n",
    "import numpy as np\n",
    "\n",
    "# Do not change this option; This allows the CodeGrade auto grading to function correctly\n",
    "pd.set_option('display.max_columns', None)"
   ]
  },
  {
   "cell_type": "markdown",
   "metadata": {},
   "source": [
    "## Import Data\n",
    "\n",
    "Load the various Lego datasets below calling them the same as the name of the table as seen in the schema.  Note that you may or may not have to use all the data sets.  One of the things that all Data Scientists and Analysts have to decide when working on a project is what data is useful for a task and what data is not.  Remember to look at the schema above to see how all the data sets are connected.\n",
    "\n",
    "The autograder in CodeGrade will have the `csv` files in the same location where the notebook is run.  Because of this, please make sure your local files are in the same location as your notebook."
   ]
  },
  {
   "cell_type": "code",
   "execution_count": 66,
   "metadata": {},
   "outputs": [],
   "source": [
    "# import Lego data sets here\n",
    "# make sure that files are in the same folder as your notebook\n",
    "inventories = pd.read_csv('inventories.csv')\n",
    "inventory_sets = pd.read_csv('inventory_sets.csv')\n",
    "sets = pd.read_csv('sets.csv')\n",
    "themes = pd.read_csv('themes.csv')\n",
    "inventory_minifigs = pd.read_csv('inventory_minifigs.csv')\n",
    "minifigs = pd.read_csv('minifigs.csv')\n",
    "inventory_parts = pd.read_csv('inventory_parts.csv')\n",
    "part_categories = pd.read_csv('part_categories.csv')\n",
    "parts = pd.read_csv('parts.csv')\n",
    "colors = pd.read_csv('colors.csv')\n",
    "part_relationships = pd.read_csv('part_relationships.csv')\n",
    "elements = pd.read_csv('elements.csv')"
   ]
  },
  {
   "cell_type": "markdown",
   "metadata": {},
   "source": [
    "## Exploration"
   ]
  },
  {
   "cell_type": "markdown",
   "metadata": {},
   "source": [
    "Take time to look at all of the data sets using `.head()`, `.info()`, `.describe()`, etc to familiarize yourself with the data sets.  As you look at them, notice how the various tables connect together."
   ]
  },
  {
   "cell_type": "code",
   "execution_count": 67,
   "metadata": {},
   "outputs": [
    {
     "name": "stdout",
     "output_type": "stream",
     "text": [
      "<class 'pandas.core.frame.DataFrame'>\n",
      "RangeIndex: 3413 entries, 0 to 3412\n",
      "Data columns (total 3 columns):\n",
      " #   Column        Non-Null Count  Dtype \n",
      "---  ------        --------------  ----- \n",
      " 0   inventory_id  3413 non-null   int64 \n",
      " 1   set_num       3413 non-null   object\n",
      " 2   quantity      3413 non-null   int64 \n",
      "dtypes: int64(2), object(1)\n",
      "memory usage: 80.1+ KB\n"
     ]
    }
   ],
   "source": [
    "### ENTER CODE HERE ###\n",
    "inventory_sets.info()"
   ]
  },
  {
   "cell_type": "markdown",
   "metadata": {},
   "source": [
    "## Assignment\n",
    "\n",
    "Answer all the questions below using the available data.  There are multiple ways to get some of the answers.  I would suggest that you attempt to merge some data sets as needed to assist with getting answers.  This will make your tasks a lot easier and your code will be cleaner.\n",
    "\n",
    "Also, you will be creating functions to get the answers to some of these questions.  This will make it much easier for you to get answers to similar questions in the future and CodeGrade will be checking your functions using different inputs.  "
   ]
  },
  {
   "cell_type": "markdown",
   "metadata": {},
   "source": [
    "**Q1:** Create a function called `data_count` that takes as input the data set (for example: `sets`) and returns the total number of rows in the data (as an integer).  Nothing else should be returned."
   ]
  },
  {
   "cell_type": "code",
   "execution_count": 68,
   "metadata": {},
   "outputs": [],
   "source": [
    "### ENTER CODE HERE ###\n",
    "\n",
    "def data_count(df):\n",
    "    return len(df)\n"
   ]
  },
  {
   "cell_type": "markdown",
   "metadata": {},
   "source": [
    "**Code Check:**  If you call your `data_count` function using the `sets` DataFrame, you should see that there are 18,576 sets represented in the data."
   ]
  },
  {
   "cell_type": "code",
   "execution_count": 69,
   "metadata": {},
   "outputs": [
    {
     "data": {
      "text/plain": [
       "18576"
      ]
     },
     "execution_count": 69,
     "metadata": {},
     "output_type": "execute_result"
    }
   ],
   "source": [
    "### CODE CHECK ###\n",
    "\n",
    "data_count(sets)"
   ]
  },
  {
   "cell_type": "markdown",
   "metadata": {},
   "source": [
    "**Q2:** What is the average number of parts for a Lego set (rounded to the nearest integer)?  Save this as `Q2`."
   ]
  },
  {
   "cell_type": "code",
   "execution_count": 70,
   "metadata": {},
   "outputs": [
    {
     "data": {
      "text/plain": [
       "161"
      ]
     },
     "execution_count": 70,
     "metadata": {},
     "output_type": "execute_result"
    }
   ],
   "source": [
    "### ENTER CODE HERE ###\n",
    "\n",
    "flt = sets['num_parts'].mean()\n",
    "\n",
    "Q2 = round(flt)\n",
    "\n",
    "Q2"
   ]
  },
  {
   "cell_type": "markdown",
   "metadata": {},
   "source": [
    "**Q3:** What is the median number of parts per set (output as an integer)?  Save this as `Q3`."
   ]
  },
  {
   "cell_type": "code",
   "execution_count": 71,
   "metadata": {},
   "outputs": [
    {
     "data": {
      "text/plain": [
       "37"
      ]
     },
     "execution_count": 71,
     "metadata": {},
     "output_type": "execute_result"
    }
   ],
   "source": [
    "### ENTER CODE HERE ###\n",
    "flt2 = sets['num_parts'].median()\n",
    "\n",
    "Q3= round(flt2)\n",
    "\n",
    "Q3\n"
   ]
  },
  {
   "cell_type": "markdown",
   "metadata": {},
   "source": [
    "You should see that the median number of parts is much lower than the average number of parts per set.  This tells us that there are some Lego sets with a very high number of parts that brings the average up."
   ]
  },
  {
   "cell_type": "markdown",
   "metadata": {},
   "source": [
    "**Q4:** What is the largest number of parts that a set has? Save this as `Q4`."
   ]
  },
  {
   "cell_type": "code",
   "execution_count": 72,
   "metadata": {},
   "outputs": [
    {
     "data": {
      "text/plain": [
       "11695"
      ]
     },
     "execution_count": 72,
     "metadata": {},
     "output_type": "execute_result"
    }
   ],
   "source": [
    "### ENTER CODE HERE ###\n",
    "\n",
    "Q4 = sets['num_parts'].max()\n",
    "\n",
    "Q4"
   ]
  },
  {
   "cell_type": "markdown",
   "metadata": {},
   "source": [
    "**Q5:** Given the set with the largest number of parts calculated above, select its row from the `sets` DataFrame.  Save this as `Q5`.  Do not reset the index."
   ]
  },
  {
   "cell_type": "code",
   "execution_count": 73,
   "metadata": {},
   "outputs": [
    {
     "data": {
      "text/html": [
       "<div>\n",
       "<style scoped>\n",
       "    .dataframe tbody tr th:only-of-type {\n",
       "        vertical-align: middle;\n",
       "    }\n",
       "\n",
       "    .dataframe tbody tr th {\n",
       "        vertical-align: top;\n",
       "    }\n",
       "\n",
       "    .dataframe thead th {\n",
       "        text-align: right;\n",
       "    }\n",
       "</style>\n",
       "<table border=\"1\" class=\"dataframe\">\n",
       "  <thead>\n",
       "    <tr style=\"text-align: right;\">\n",
       "      <th></th>\n",
       "      <th>set_num</th>\n",
       "      <th>name</th>\n",
       "      <th>year</th>\n",
       "      <th>theme_id</th>\n",
       "      <th>num_parts</th>\n",
       "    </tr>\n",
       "  </thead>\n",
       "  <tbody>\n",
       "    <tr>\n",
       "      <th>3867</th>\n",
       "      <td>31203-1</td>\n",
       "      <td>World Map</td>\n",
       "      <td>2021</td>\n",
       "      <td>709</td>\n",
       "      <td>11695</td>\n",
       "    </tr>\n",
       "  </tbody>\n",
       "</table>\n",
       "</div>"
      ],
      "text/plain": [
       "      set_num       name  year  theme_id  num_parts\n",
       "3867  31203-1  World Map  2021       709      11695"
      ]
     },
     "execution_count": 73,
     "metadata": {},
     "output_type": "execute_result"
    }
   ],
   "source": [
    "### ENTER CODE HERE ###\n",
    "\n",
    "Q5 = sets.loc[sets['num_parts'] == 11695]\n",
    "\n",
    "Q5"
   ]
  },
  {
   "cell_type": "markdown",
   "metadata": {},
   "source": [
    "**Q6:** Create a function called `select_set_row` where you pass it the `set_num` (as a string) and the function returns the respective row of the DataFrame from `sets`. Do not reset the index."
   ]
  },
  {
   "cell_type": "code",
   "execution_count": 74,
   "metadata": {},
   "outputs": [],
   "source": [
    "### ENTER CODE HERE ###\n",
    "\n",
    "sets2 = sets.rename(columns={'name_sets': 'name'})\n",
    "\n",
    "def select_set_row(set_num):\n",
    "    return sets2.loc[sets['set_num'] == set_num]\n"
   ]
  },
  {
   "cell_type": "markdown",
   "metadata": {},
   "source": [
    "**Q7:** Create a function called `select_set_numparts` that takes as input a specific number of parts (as an integer) and selects all the rows in the `sets` DataFrame that contain those number of parts.  Return the DataFrame sorted by `year` and then by `set_num`.  Do not reset the index."
   ]
  },
  {
   "cell_type": "code",
   "execution_count": 75,
   "metadata": {},
   "outputs": [],
   "source": [
    "### ENTER CODE HERE ###\n",
    "def select_set_numparts(num_parts):\n",
    "    return sets2.loc[sets2['num_parts'] == num_parts].sort_values(by=['year', 'set_num'])\n",
    "\n"
   ]
  },
  {
   "cell_type": "markdown",
   "metadata": {},
   "source": [
    "**Code Check:** Call the `select_set_numparts()` function to select all sets with `0` number of parts.  There should be 3,146 rows returned."
   ]
  },
  {
   "cell_type": "code",
   "execution_count": 76,
   "metadata": {},
   "outputs": [
    {
     "data": {
      "text/html": [
       "<div>\n",
       "<style scoped>\n",
       "    .dataframe tbody tr th:only-of-type {\n",
       "        vertical-align: middle;\n",
       "    }\n",
       "\n",
       "    .dataframe tbody tr th {\n",
       "        vertical-align: top;\n",
       "    }\n",
       "\n",
       "    .dataframe thead th {\n",
       "        text-align: right;\n",
       "    }\n",
       "</style>\n",
       "<table border=\"1\" class=\"dataframe\">\n",
       "  <thead>\n",
       "    <tr style=\"text-align: right;\">\n",
       "      <th></th>\n",
       "      <th>set_num</th>\n",
       "      <th>name</th>\n",
       "      <th>year</th>\n",
       "      <th>theme_id</th>\n",
       "      <th>num_parts</th>\n",
       "    </tr>\n",
       "  </thead>\n",
       "  <tbody>\n",
       "    <tr>\n",
       "      <th>11061</th>\n",
       "      <td>700.1-2</td>\n",
       "      <td>Extra-Large Gift Set (Mursten)</td>\n",
       "      <td>1953</td>\n",
       "      <td>366</td>\n",
       "      <td>0</td>\n",
       "    </tr>\n",
       "    <tr>\n",
       "      <th>17563</th>\n",
       "      <td>b55dk-01</td>\n",
       "      <td>Lego Mursten - System i Leg Byggebog</td>\n",
       "      <td>1955</td>\n",
       "      <td>497</td>\n",
       "      <td>0</td>\n",
       "    </tr>\n",
       "    <tr>\n",
       "      <th>17564</th>\n",
       "      <td>b56de-01</td>\n",
       "      <td>System im Spiel</td>\n",
       "      <td>1956</td>\n",
       "      <td>497</td>\n",
       "      <td>0</td>\n",
       "    </tr>\n",
       "    <tr>\n",
       "      <th>11072</th>\n",
       "      <td>700.2-2</td>\n",
       "      <td>Gift Package</td>\n",
       "      <td>1957</td>\n",
       "      <td>366</td>\n",
       "      <td>0</td>\n",
       "    </tr>\n",
       "    <tr>\n",
       "      <th>11078</th>\n",
       "      <td>700.3A-2</td>\n",
       "      <td>Gift Package</td>\n",
       "      <td>1957</td>\n",
       "      <td>372</td>\n",
       "      <td>0</td>\n",
       "    </tr>\n",
       "    <tr>\n",
       "      <th>...</th>\n",
       "      <td>...</td>\n",
       "      <td>...</td>\n",
       "      <td>...</td>\n",
       "      <td>...</td>\n",
       "      <td>...</td>\n",
       "    </tr>\n",
       "    <tr>\n",
       "      <th>15619</th>\n",
       "      <td>854195-1</td>\n",
       "      <td>Ernie Key Chain</td>\n",
       "      <td>2022</td>\n",
       "      <td>503</td>\n",
       "      <td>0</td>\n",
       "    </tr>\n",
       "    <tr>\n",
       "      <th>15620</th>\n",
       "      <td>854197-1</td>\n",
       "      <td>Demogorgon Key Chain</td>\n",
       "      <td>2022</td>\n",
       "      <td>503</td>\n",
       "      <td>0</td>\n",
       "    </tr>\n",
       "    <tr>\n",
       "      <th>17170</th>\n",
       "      <td>9780744054583-1</td>\n",
       "      <td>DC Comics Super Heroes: Character Encyclopedia...</td>\n",
       "      <td>2022</td>\n",
       "      <td>497</td>\n",
       "      <td>0</td>\n",
       "    </tr>\n",
       "    <tr>\n",
       "      <th>17193</th>\n",
       "      <td>9780794447557-1</td>\n",
       "      <td>City: Color The City</td>\n",
       "      <td>2022</td>\n",
       "      <td>497</td>\n",
       "      <td>0</td>\n",
       "    </tr>\n",
       "    <tr>\n",
       "      <th>17200</th>\n",
       "      <td>9780794448172-1</td>\n",
       "      <td>DC Comics Super Heroes: Ready For Action</td>\n",
       "      <td>2022</td>\n",
       "      <td>497</td>\n",
       "      <td>0</td>\n",
       "    </tr>\n",
       "  </tbody>\n",
       "</table>\n",
       "<p>3146 rows × 5 columns</p>\n",
       "</div>"
      ],
      "text/plain": [
       "               set_num                                               name  \\\n",
       "11061          700.1-2                     Extra-Large Gift Set (Mursten)   \n",
       "17563         b55dk-01               Lego Mursten - System i Leg Byggebog   \n",
       "17564         b56de-01                                    System im Spiel   \n",
       "11072          700.2-2                                       Gift Package   \n",
       "11078         700.3A-2                                       Gift Package   \n",
       "...                ...                                                ...   \n",
       "15619         854195-1                                    Ernie Key Chain   \n",
       "15620         854197-1                               Demogorgon Key Chain   \n",
       "17170  9780744054583-1  DC Comics Super Heroes: Character Encyclopedia...   \n",
       "17193  9780794447557-1                               City: Color The City   \n",
       "17200  9780794448172-1           DC Comics Super Heroes: Ready For Action   \n",
       "\n",
       "       year  theme_id  num_parts  \n",
       "11061  1953       366          0  \n",
       "17563  1955       497          0  \n",
       "17564  1956       497          0  \n",
       "11072  1957       366          0  \n",
       "11078  1957       372          0  \n",
       "...     ...       ...        ...  \n",
       "15619  2022       503          0  \n",
       "15620  2022       503          0  \n",
       "17170  2022       497          0  \n",
       "17193  2022       497          0  \n",
       "17200  2022       497          0  \n",
       "\n",
       "[3146 rows x 5 columns]"
      ]
     },
     "execution_count": 76,
     "metadata": {},
     "output_type": "execute_result"
    }
   ],
   "source": [
    "### CODE CHECK ###\n",
    "\n",
    "select_set_numparts(0)"
   ]
  },
  {
   "cell_type": "markdown",
   "metadata": {},
   "source": [
    "**Q8:** \n",
    "- The oldest set listed was made in what year?  Save the year as `Q8A` (as an integer).  \n",
    "- The newest set listed was made in what year? Save the year as `Q8B` (as an integer)."
   ]
  },
  {
   "cell_type": "code",
   "execution_count": 77,
   "metadata": {},
   "outputs": [
    {
     "data": {
      "text/plain": [
       "1949"
      ]
     },
     "execution_count": 77,
     "metadata": {},
     "output_type": "execute_result"
    }
   ],
   "source": [
    "### ENTER CODE HERE ###\n",
    "Q8A = sets['year'].min()\n",
    "\n",
    "Q8A\n",
    "\n"
   ]
  },
  {
   "cell_type": "code",
   "execution_count": 78,
   "metadata": {},
   "outputs": [
    {
     "data": {
      "text/plain": [
       "2022"
      ]
     },
     "execution_count": 78,
     "metadata": {},
     "output_type": "execute_result"
    }
   ],
   "source": [
    "### ENTER CODE HERE ###\n",
    "Q8B = sets['year'].max()\n",
    "\n",
    "Q8B"
   ]
  },
  {
   "cell_type": "markdown",
   "metadata": {},
   "source": [
    "**Q9:** \n",
    "- Create a function called `select_set_year` that takes as input a year (as an integer) and returns the rows from the `sets` DataFrame that matches that year.  Sort the DataFrame by `set_num`.  Do not reset the index.\n",
    "- Use the above function to return a DataFrame for rows that match the minimum year (calculated as `Q8A` above) and call this `Q9A`.  \n",
    "- Then use the above function to return a DataFrame for rows that match the maximum year (calculated as `Q8B` above) and call this `Q9B`."
   ]
  },
  {
   "cell_type": "code",
   "execution_count": 79,
   "metadata": {},
   "outputs": [],
   "source": [
    "### ENTER CODE HERE ###\n",
    "def select_set_year(year):\n",
    "    return sets2.loc[sets2['year'] == year].sort_values(by=['set_num'])"
   ]
  },
  {
   "cell_type": "code",
   "execution_count": 80,
   "metadata": {},
   "outputs": [
    {
     "data": {
      "text/html": [
       "<div>\n",
       "<style scoped>\n",
       "    .dataframe tbody tr th:only-of-type {\n",
       "        vertical-align: middle;\n",
       "    }\n",
       "\n",
       "    .dataframe tbody tr th {\n",
       "        vertical-align: top;\n",
       "    }\n",
       "\n",
       "    .dataframe thead th {\n",
       "        text-align: right;\n",
       "    }\n",
       "</style>\n",
       "<table border=\"1\" class=\"dataframe\">\n",
       "  <thead>\n",
       "    <tr style=\"text-align: right;\">\n",
       "      <th></th>\n",
       "      <th>set_num</th>\n",
       "      <th>name</th>\n",
       "      <th>year</th>\n",
       "      <th>theme_id</th>\n",
       "      <th>num_parts</th>\n",
       "    </tr>\n",
       "  </thead>\n",
       "  <tbody>\n",
       "    <tr>\n",
       "      <th>336</th>\n",
       "      <td>10297-1</td>\n",
       "      <td>Boutique Hotel</td>\n",
       "      <td>2022</td>\n",
       "      <td>155</td>\n",
       "      <td>3068</td>\n",
       "    </tr>\n",
       "    <tr>\n",
       "      <th>600</th>\n",
       "      <td>10781-1</td>\n",
       "      <td>Spider-Man’s Techno Trike</td>\n",
       "      <td>2022</td>\n",
       "      <td>706</td>\n",
       "      <td>59</td>\n",
       "    </tr>\n",
       "    <tr>\n",
       "      <th>601</th>\n",
       "      <td>10782-1</td>\n",
       "      <td>Hulk vs. Rhino Truck Showdown</td>\n",
       "      <td>2022</td>\n",
       "      <td>706</td>\n",
       "      <td>110</td>\n",
       "    </tr>\n",
       "    <tr>\n",
       "      <th>602</th>\n",
       "      <td>10783-1</td>\n",
       "      <td>Spider-Man at Doc Ock’s Lab</td>\n",
       "      <td>2022</td>\n",
       "      <td>706</td>\n",
       "      <td>131</td>\n",
       "    </tr>\n",
       "    <tr>\n",
       "      <th>603</th>\n",
       "      <td>10784-1</td>\n",
       "      <td>Spider-Man Webquarters Hangout</td>\n",
       "      <td>2022</td>\n",
       "      <td>706</td>\n",
       "      <td>155</td>\n",
       "    </tr>\n",
       "    <tr>\n",
       "      <th>...</th>\n",
       "      <td>...</td>\n",
       "      <td>...</td>\n",
       "      <td>...</td>\n",
       "      <td>...</td>\n",
       "      <td>...</td>\n",
       "    </tr>\n",
       "    <tr>\n",
       "      <th>17170</th>\n",
       "      <td>9780744054583-1</td>\n",
       "      <td>DC Comics Super Heroes: Character Encyclopedia...</td>\n",
       "      <td>2022</td>\n",
       "      <td>497</td>\n",
       "      <td>0</td>\n",
       "    </tr>\n",
       "    <tr>\n",
       "      <th>17193</th>\n",
       "      <td>9780794447557-1</td>\n",
       "      <td>City: Color The City</td>\n",
       "      <td>2022</td>\n",
       "      <td>497</td>\n",
       "      <td>0</td>\n",
       "    </tr>\n",
       "    <tr>\n",
       "      <th>17200</th>\n",
       "      <td>9780794448172-1</td>\n",
       "      <td>DC Comics Super Heroes: Ready For Action</td>\n",
       "      <td>2022</td>\n",
       "      <td>497</td>\n",
       "      <td>0</td>\n",
       "    </tr>\n",
       "    <tr>\n",
       "      <th>17207</th>\n",
       "      <td>9780794449247-1</td>\n",
       "      <td>DC Comics Super Heroes: Gotham City’s New Defe...</td>\n",
       "      <td>2022</td>\n",
       "      <td>497</td>\n",
       "      <td>7</td>\n",
       "    </tr>\n",
       "    <tr>\n",
       "      <th>17726</th>\n",
       "      <td>DOTS-SERIES-6</td>\n",
       "      <td>DOTS Collectible Tiles Series 6</td>\n",
       "      <td>2022</td>\n",
       "      <td>688</td>\n",
       "      <td>16</td>\n",
       "    </tr>\n",
       "  </tbody>\n",
       "</table>\n",
       "<p>183 rows × 5 columns</p>\n",
       "</div>"
      ],
      "text/plain": [
       "               set_num                                               name  \\\n",
       "336            10297-1                                     Boutique Hotel   \n",
       "600            10781-1                          Spider-Man’s Techno Trike   \n",
       "601            10782-1                      Hulk vs. Rhino Truck Showdown   \n",
       "602            10783-1                        Spider-Man at Doc Ock’s Lab   \n",
       "603            10784-1                     Spider-Man Webquarters Hangout   \n",
       "...                ...                                                ...   \n",
       "17170  9780744054583-1  DC Comics Super Heroes: Character Encyclopedia...   \n",
       "17193  9780794447557-1                               City: Color The City   \n",
       "17200  9780794448172-1           DC Comics Super Heroes: Ready For Action   \n",
       "17207  9780794449247-1  DC Comics Super Heroes: Gotham City’s New Defe...   \n",
       "17726    DOTS-SERIES-6                    DOTS Collectible Tiles Series 6   \n",
       "\n",
       "       year  theme_id  num_parts  \n",
       "336    2022       155       3068  \n",
       "600    2022       706         59  \n",
       "601    2022       706        110  \n",
       "602    2022       706        131  \n",
       "603    2022       706        155  \n",
       "...     ...       ...        ...  \n",
       "17170  2022       497          0  \n",
       "17193  2022       497          0  \n",
       "17200  2022       497          0  \n",
       "17207  2022       497          7  \n",
       "17726  2022       688         16  \n",
       "\n",
       "[183 rows x 5 columns]"
      ]
     },
     "execution_count": 80,
     "metadata": {},
     "output_type": "execute_result"
    }
   ],
   "source": [
    "### ENTER CODE HERE ###\n",
    "\n",
    "Q9A = select_set_year(1949)\n",
    "\n",
    "Q9A\n",
    "\n",
    "Q9B = select_set_year(2022)\n",
    "\n",
    "Q9B"
   ]
  },
  {
   "cell_type": "markdown",
   "metadata": {},
   "source": [
    "**Q10:** What is the median year represented in the `sets` data?  Save this as `Q10` (as an integer)."
   ]
  },
  {
   "cell_type": "code",
   "execution_count": 81,
   "metadata": {},
   "outputs": [
    {
     "data": {
      "text/plain": [
       "2010"
      ]
     },
     "execution_count": 81,
     "metadata": {},
     "output_type": "execute_result"
    }
   ],
   "source": [
    "### ENTER CODE HERE ###\n",
    "\n",
    "year_median = sets['year'].median()\n",
    "\n",
    "Q10 = round(year_median)\n",
    "\n",
    "Q10"
   ]
  },
  {
   "cell_type": "markdown",
   "metadata": {},
   "source": [
    "Notice that the first set was back in 1949 but over half of the sets were after the median year. This could be an indication that the number of sets has increased greatly over the past number of years."
   ]
  },
  {
   "cell_type": "markdown",
   "metadata": {},
   "source": [
    "**Q11:** What is the average number of sets listed per year?  Save this as `Q11` (as an integer)."
   ]
  },
  {
   "cell_type": "code",
   "execution_count": 82,
   "metadata": {},
   "outputs": [
    {
     "data": {
      "text/plain": [
       "258"
      ]
     },
     "execution_count": 82,
     "metadata": {},
     "output_type": "execute_result"
    }
   ],
   "source": [
    "### ENTER CODE HERE ###\n",
    "\n",
    "avg_sets_year = sets.groupby('year')['set_num'].count().mean()\n",
    "\n",
    "Q11 = round(avg_sets_year)\n",
    "\n",
    "Q11"
   ]
  },
  {
   "cell_type": "markdown",
   "metadata": {},
   "source": [
    "**Q12:** \n",
    "- Create a function called `theme_by_year` that takes as input a year (as an integer) and shows the theme ids and theme names (listed in order by theme id) that were in sets that year.  \n",
    "- The column names must be `id` and `name_themes` (to differentiate between the name of a theme and the name of a set) in that order.  \n",
    "- The index should be reset and go from `0` to `n-1`.  \n",
    "- Each theme should only be listed once even if it appeared in more than one set from that year -- duplicate themes should be based on theme id and not name since there are some themes with the same name but with a different id.\n",
    "- Hint:  It will help if you were to think about merging appropriate DataFrames to help you get this answer."
   ]
  },
  {
   "cell_type": "code",
   "execution_count": 83,
   "metadata": {
    "scrolled": false
   },
   "outputs": [
    {
     "data": {
      "text/html": [
       "<div>\n",
       "<style scoped>\n",
       "    .dataframe tbody tr th:only-of-type {\n",
       "        vertical-align: middle;\n",
       "    }\n",
       "\n",
       "    .dataframe tbody tr th {\n",
       "        vertical-align: top;\n",
       "    }\n",
       "\n",
       "    .dataframe thead th {\n",
       "        text-align: right;\n",
       "    }\n",
       "</style>\n",
       "<table border=\"1\" class=\"dataframe\">\n",
       "  <thead>\n",
       "    <tr style=\"text-align: right;\">\n",
       "      <th></th>\n",
       "      <th>id</th>\n",
       "      <th>name_themes</th>\n",
       "    </tr>\n",
       "  </thead>\n",
       "  <tbody>\n",
       "    <tr>\n",
       "      <th>0</th>\n",
       "      <td>371</td>\n",
       "      <td>Supplemental</td>\n",
       "    </tr>\n",
       "    <tr>\n",
       "      <th>1</th>\n",
       "      <td>497</td>\n",
       "      <td>Books</td>\n",
       "    </tr>\n",
       "    <tr>\n",
       "      <th>2</th>\n",
       "      <td>513</td>\n",
       "      <td>Classic</td>\n",
       "    </tr>\n",
       "  </tbody>\n",
       "</table>\n",
       "</div>"
      ],
      "text/plain": [
       "    id   name_themes\n",
       "0  371  Supplemental\n",
       "1  497         Books\n",
       "2  513       Classic"
      ]
     },
     "execution_count": 83,
     "metadata": {},
     "output_type": "execute_result"
    }
   ],
   "source": [
    "### ENTER CODE HERE ###\n",
    "themes.rename(columns={\"name\": \"name_themes\"}, inplace=True)\n",
    "\n",
    "sets_themes = pd.merge(sets, themes, how=\"inner\", left_on=\"theme_id\", right_on=\"id\")\n",
    "\n",
    "def theme_by_year(year):\n",
    "    p1 = sets_themes.loc[sets_themes['year'] == year].sort_values(by='theme_id').drop_duplicates(subset='theme_id')\n",
    "    return p1[['id', 'name_themes']].reset_index(drop=True)\n",
    "\n",
    "theme_by_year(1960)"
   ]
  },
  {
   "cell_type": "markdown",
   "metadata": {},
   "source": [
    "**Code Check:** Call the `theme_by_year()` function on the year `1960`.  Your output should look as follows:\n",
    "\n",
    "| | id | name_themes|\n",
    "|-|---|---|\n",
    "|0|371|Supplemental|\n",
    "|1|497|Books|\n",
    "|2|513|Classic|\n",
    "\n",
    "**Optional Practice:** Call the `theme_by_year()` function using your birth year to see the Lego themes that were popular when you were born."
   ]
  },
  {
   "cell_type": "code",
   "execution_count": 84,
   "metadata": {},
   "outputs": [
    {
     "data": {
      "text/html": [
       "<div>\n",
       "<style scoped>\n",
       "    .dataframe tbody tr th:only-of-type {\n",
       "        vertical-align: middle;\n",
       "    }\n",
       "\n",
       "    .dataframe tbody tr th {\n",
       "        vertical-align: top;\n",
       "    }\n",
       "\n",
       "    .dataframe thead th {\n",
       "        text-align: right;\n",
       "    }\n",
       "</style>\n",
       "<table border=\"1\" class=\"dataframe\">\n",
       "  <thead>\n",
       "    <tr style=\"text-align: right;\">\n",
       "      <th></th>\n",
       "      <th>set_num</th>\n",
       "      <th>name</th>\n",
       "      <th>year</th>\n",
       "      <th>theme_id</th>\n",
       "      <th>num_parts</th>\n",
       "      <th>id</th>\n",
       "      <th>name_themes</th>\n",
       "      <th>parent_id</th>\n",
       "    </tr>\n",
       "  </thead>\n",
       "  <tbody>\n",
       "    <tr>\n",
       "      <th>0</th>\n",
       "      <td>001-1</td>\n",
       "      <td>Gears</td>\n",
       "      <td>1965</td>\n",
       "      <td>1</td>\n",
       "      <td>43</td>\n",
       "      <td>1</td>\n",
       "      <td>Technic</td>\n",
       "      <td>NaN</td>\n",
       "    </tr>\n",
       "    <tr>\n",
       "      <th>1</th>\n",
       "      <td>002-1</td>\n",
       "      <td>4.5V Samsonite Gears Motor Set</td>\n",
       "      <td>1965</td>\n",
       "      <td>1</td>\n",
       "      <td>3</td>\n",
       "      <td>1</td>\n",
       "      <td>Technic</td>\n",
       "      <td>NaN</td>\n",
       "    </tr>\n",
       "    <tr>\n",
       "      <th>2</th>\n",
       "      <td>1030-1</td>\n",
       "      <td>TECHNIC I: Simple Machines Set</td>\n",
       "      <td>1985</td>\n",
       "      <td>1</td>\n",
       "      <td>211</td>\n",
       "      <td>1</td>\n",
       "      <td>Technic</td>\n",
       "      <td>NaN</td>\n",
       "    </tr>\n",
       "    <tr>\n",
       "      <th>3</th>\n",
       "      <td>1038-1</td>\n",
       "      <td>ERBIE the Robo-Car</td>\n",
       "      <td>1985</td>\n",
       "      <td>1</td>\n",
       "      <td>120</td>\n",
       "      <td>1</td>\n",
       "      <td>Technic</td>\n",
       "      <td>NaN</td>\n",
       "    </tr>\n",
       "    <tr>\n",
       "      <th>4</th>\n",
       "      <td>1039-1</td>\n",
       "      <td>Manual Control Set 1</td>\n",
       "      <td>1986</td>\n",
       "      <td>1</td>\n",
       "      <td>39</td>\n",
       "      <td>1</td>\n",
       "      <td>Technic</td>\n",
       "      <td>NaN</td>\n",
       "    </tr>\n",
       "    <tr>\n",
       "      <th>...</th>\n",
       "      <td>...</td>\n",
       "      <td>...</td>\n",
       "      <td>...</td>\n",
       "      <td>...</td>\n",
       "      <td>...</td>\n",
       "      <td>...</td>\n",
       "      <td>...</td>\n",
       "      <td>...</td>\n",
       "    </tr>\n",
       "    <tr>\n",
       "      <th>18571</th>\n",
       "      <td>M20-2566-10</td>\n",
       "      <td>Modulex Box - 10x Window 1 x 6 x 6</td>\n",
       "      <td>1963</td>\n",
       "      <td>716</td>\n",
       "      <td>10</td>\n",
       "      <td>716</td>\n",
       "      <td>Modulex</td>\n",
       "      <td>NaN</td>\n",
       "    </tr>\n",
       "    <tr>\n",
       "      <th>18572</th>\n",
       "      <td>M20-2575-10</td>\n",
       "      <td>Modulex Box - 10x Window 1 x 7 x 5</td>\n",
       "      <td>1963</td>\n",
       "      <td>716</td>\n",
       "      <td>10</td>\n",
       "      <td>716</td>\n",
       "      <td>Modulex</td>\n",
       "      <td>NaN</td>\n",
       "    </tr>\n",
       "    <tr>\n",
       "      <th>18573</th>\n",
       "      <td>M20-2576-10</td>\n",
       "      <td>Modulex Box - 10x Window 1 x 7 x 6</td>\n",
       "      <td>1963</td>\n",
       "      <td>716</td>\n",
       "      <td>10</td>\n",
       "      <td>716</td>\n",
       "      <td>Modulex</td>\n",
       "      <td>NaN</td>\n",
       "    </tr>\n",
       "    <tr>\n",
       "      <th>18574</th>\n",
       "      <td>M20-2586-10</td>\n",
       "      <td>Modulex Box - 10x Window 1 x 8 x 6</td>\n",
       "      <td>1963</td>\n",
       "      <td>716</td>\n",
       "      <td>10</td>\n",
       "      <td>716</td>\n",
       "      <td>Modulex</td>\n",
       "      <td>NaN</td>\n",
       "    </tr>\n",
       "    <tr>\n",
       "      <th>18575</th>\n",
       "      <td>WEETABIX1-1</td>\n",
       "      <td>Weetabix Castle</td>\n",
       "      <td>1970</td>\n",
       "      <td>414</td>\n",
       "      <td>471</td>\n",
       "      <td>414</td>\n",
       "      <td>Castle</td>\n",
       "      <td>411.0</td>\n",
       "    </tr>\n",
       "  </tbody>\n",
       "</table>\n",
       "<p>18576 rows × 8 columns</p>\n",
       "</div>"
      ],
      "text/plain": [
       "           set_num                                name  year  theme_id  \\\n",
       "0            001-1                               Gears  1965         1   \n",
       "1            002-1      4.5V Samsonite Gears Motor Set  1965         1   \n",
       "2           1030-1      TECHNIC I: Simple Machines Set  1985         1   \n",
       "3           1038-1                  ERBIE the Robo-Car  1985         1   \n",
       "4           1039-1                Manual Control Set 1  1986         1   \n",
       "...            ...                                 ...   ...       ...   \n",
       "18571  M20-2566-10  Modulex Box - 10x Window 1 x 6 x 6  1963       716   \n",
       "18572  M20-2575-10  Modulex Box - 10x Window 1 x 7 x 5  1963       716   \n",
       "18573  M20-2576-10  Modulex Box - 10x Window 1 x 7 x 6  1963       716   \n",
       "18574  M20-2586-10  Modulex Box - 10x Window 1 x 8 x 6  1963       716   \n",
       "18575  WEETABIX1-1                     Weetabix Castle  1970       414   \n",
       "\n",
       "       num_parts   id name_themes  parent_id  \n",
       "0             43    1     Technic        NaN  \n",
       "1              3    1     Technic        NaN  \n",
       "2            211    1     Technic        NaN  \n",
       "3            120    1     Technic        NaN  \n",
       "4             39    1     Technic        NaN  \n",
       "...          ...  ...         ...        ...  \n",
       "18571         10  716     Modulex        NaN  \n",
       "18572         10  716     Modulex        NaN  \n",
       "18573         10  716     Modulex        NaN  \n",
       "18574         10  716     Modulex        NaN  \n",
       "18575        471  414      Castle      411.0  \n",
       "\n",
       "[18576 rows x 8 columns]"
      ]
     },
     "execution_count": 84,
     "metadata": {},
     "output_type": "execute_result"
    }
   ],
   "source": [
    "### CODE CHECK / OPTIONAL PRACTICE ###\n",
    "sets_themes"
   ]
  },
  {
   "cell_type": "markdown",
   "metadata": {},
   "source": [
    "**Q13:** What theme has the most number of sets associated with it?  Save the theme name as `Q13` (as a string)."
   ]
  },
  {
   "cell_type": "code",
   "execution_count": 85,
   "metadata": {},
   "outputs": [
    {
     "data": {
      "text/plain": [
       "'Gear'"
      ]
     },
     "execution_count": 85,
     "metadata": {},
     "output_type": "execute_result"
    }
   ],
   "source": [
    "### ENTER CODE HERE ###\n",
    "\n",
    "theme_most_sets = sets_themes.groupby('name_themes')['set_num'].count().idxmax()\n",
    "\n",
    "Q13 = theme_most_sets\n",
    "\n",
    "Q13"
   ]
  },
  {
   "cell_type": "markdown",
   "metadata": {},
   "source": [
    "**Q14:** \n",
    "- Create a function called `theme_by_name` that takes as input a theme name and outputs all the sets (in `set_num` order) that had that theme.  \n",
    "- The DataFrame should include the following columns in this order and with these exact names: `set_num`,`name_sets`,`year`,`num_parts`, `theme_id`, and `name_themes`.  \n",
    "- The index should go from `0` to `n-1`."
   ]
  },
  {
   "cell_type": "code",
   "execution_count": 86,
   "metadata": {},
   "outputs": [],
   "source": [
    "### ENTER CODE HERE ###\n",
    "theme_name = sets_themes.rename(columns={'name': 'name_sets'})\n",
    "\n",
    "theme_name2 =theme_name.drop(['id', 'parent_id'], axis=1)\n",
    "\n",
    "theme_name3 = theme_name2.reindex(['set_num','name_sets','year', 'num_parts', 'theme_id', 'name_themes'], axis=1)\n",
    "\n",
    "def theme_by_name(name_themes):\n",
    "    return theme_name3.loc[theme_name3['name_themes'] == name_themes].sort_values(by='set_num').reset_index(drop=True)"
   ]
  },
  {
   "cell_type": "markdown",
   "metadata": {},
   "source": [
    "**Code Check:** Call the `theme_by_name()` function using the theme name from `Q13`.  You should return 1,904 sets that match that theme name."
   ]
  },
  {
   "cell_type": "code",
   "execution_count": 87,
   "metadata": {},
   "outputs": [
    {
     "data": {
      "text/html": [
       "<div>\n",
       "<style scoped>\n",
       "    .dataframe tbody tr th:only-of-type {\n",
       "        vertical-align: middle;\n",
       "    }\n",
       "\n",
       "    .dataframe tbody tr th {\n",
       "        vertical-align: top;\n",
       "    }\n",
       "\n",
       "    .dataframe thead th {\n",
       "        text-align: right;\n",
       "    }\n",
       "</style>\n",
       "<table border=\"1\" class=\"dataframe\">\n",
       "  <thead>\n",
       "    <tr style=\"text-align: right;\">\n",
       "      <th></th>\n",
       "      <th>set_num</th>\n",
       "      <th>name_sets</th>\n",
       "      <th>year</th>\n",
       "      <th>num_parts</th>\n",
       "      <th>theme_id</th>\n",
       "      <th>name_themes</th>\n",
       "    </tr>\n",
       "  </thead>\n",
       "  <tbody>\n",
       "    <tr>\n",
       "      <th>0</th>\n",
       "      <td>11138-1</td>\n",
       "      <td>Bionicle Barraki Wallet</td>\n",
       "      <td>2008</td>\n",
       "      <td>0</td>\n",
       "      <td>501</td>\n",
       "      <td>Gear</td>\n",
       "    </tr>\n",
       "    <tr>\n",
       "      <th>1</th>\n",
       "      <td>119645111436-1</td>\n",
       "      <td>Classic Space Astronaut Plush (Red)</td>\n",
       "      <td>2021</td>\n",
       "      <td>0</td>\n",
       "      <td>501</td>\n",
       "      <td>Gear</td>\n",
       "    </tr>\n",
       "    <tr>\n",
       "      <th>2</th>\n",
       "      <td>119645111504-1</td>\n",
       "      <td>Classic Space Astronaut Plush (Blue)</td>\n",
       "      <td>2021</td>\n",
       "      <td>0</td>\n",
       "      <td>501</td>\n",
       "      <td>Gear</td>\n",
       "    </tr>\n",
       "    <tr>\n",
       "      <th>3</th>\n",
       "      <td>119645111740-1</td>\n",
       "      <td>Classic Space Astronaut Plush (White)</td>\n",
       "      <td>2021</td>\n",
       "      <td>0</td>\n",
       "      <td>501</td>\n",
       "      <td>Gear</td>\n",
       "    </tr>\n",
       "    <tr>\n",
       "      <th>4</th>\n",
       "      <td>119645111818-1</td>\n",
       "      <td>Classic Space Astronaut Plush (Pink)</td>\n",
       "      <td>2021</td>\n",
       "      <td>0</td>\n",
       "      <td>501</td>\n",
       "      <td>Gear</td>\n",
       "    </tr>\n",
       "    <tr>\n",
       "      <th>...</th>\n",
       "      <td>...</td>\n",
       "      <td>...</td>\n",
       "      <td>...</td>\n",
       "      <td>...</td>\n",
       "      <td>...</td>\n",
       "      <td>...</td>\n",
       "    </tr>\n",
       "    <tr>\n",
       "      <th>1899</th>\n",
       "      <td>WATCH-3</td>\n",
       "      <td>Watch System Voyager (UFO Space)</td>\n",
       "      <td>1997</td>\n",
       "      <td>29</td>\n",
       "      <td>501</td>\n",
       "      <td>Gear</td>\n",
       "    </tr>\n",
       "    <tr>\n",
       "      <th>1900</th>\n",
       "      <td>WIIGAME-1</td>\n",
       "      <td>Bionicle Heroes - Wii</td>\n",
       "      <td>2007</td>\n",
       "      <td>0</td>\n",
       "      <td>501</td>\n",
       "      <td>Gear</td>\n",
       "    </tr>\n",
       "    <tr>\n",
       "      <th>1901</th>\n",
       "      <td>WIIGAME-2</td>\n",
       "      <td>Indiana Jones: The Original Adventures Video G...</td>\n",
       "      <td>2008</td>\n",
       "      <td>0</td>\n",
       "      <td>501</td>\n",
       "      <td>Gear</td>\n",
       "    </tr>\n",
       "    <tr>\n",
       "      <th>1902</th>\n",
       "      <td>WOODENELEPHANT-1</td>\n",
       "      <td>Original Wooden Elephant Pull-Along Toy and Print</td>\n",
       "      <td>2021</td>\n",
       "      <td>0</td>\n",
       "      <td>501</td>\n",
       "      <td>Gear</td>\n",
       "    </tr>\n",
       "    <tr>\n",
       "      <th>1903</th>\n",
       "      <td>ZX8000-1</td>\n",
       "      <td>ZX 8000 LEGO Sneaker</td>\n",
       "      <td>2020</td>\n",
       "      <td>0</td>\n",
       "      <td>501</td>\n",
       "      <td>Gear</td>\n",
       "    </tr>\n",
       "  </tbody>\n",
       "</table>\n",
       "<p>1904 rows × 6 columns</p>\n",
       "</div>"
      ],
      "text/plain": [
       "               set_num                                          name_sets  \\\n",
       "0              11138-1                            Bionicle Barraki Wallet   \n",
       "1       119645111436-1                Classic Space Astronaut Plush (Red)   \n",
       "2       119645111504-1               Classic Space Astronaut Plush (Blue)   \n",
       "3       119645111740-1              Classic Space Astronaut Plush (White)   \n",
       "4       119645111818-1               Classic Space Astronaut Plush (Pink)   \n",
       "...                ...                                                ...   \n",
       "1899           WATCH-3                   Watch System Voyager (UFO Space)   \n",
       "1900         WIIGAME-1                              Bionicle Heroes - Wii   \n",
       "1901         WIIGAME-2  Indiana Jones: The Original Adventures Video G...   \n",
       "1902  WOODENELEPHANT-1  Original Wooden Elephant Pull-Along Toy and Print   \n",
       "1903          ZX8000-1                               ZX 8000 LEGO Sneaker   \n",
       "\n",
       "      year  num_parts  theme_id name_themes  \n",
       "0     2008          0       501        Gear  \n",
       "1     2021          0       501        Gear  \n",
       "2     2021          0       501        Gear  \n",
       "3     2021          0       501        Gear  \n",
       "4     2021          0       501        Gear  \n",
       "...    ...        ...       ...         ...  \n",
       "1899  1997         29       501        Gear  \n",
       "1900  2007          0       501        Gear  \n",
       "1901  2008          0       501        Gear  \n",
       "1902  2021          0       501        Gear  \n",
       "1903  2020          0       501        Gear  \n",
       "\n",
       "[1904 rows x 6 columns]"
      ]
     },
     "execution_count": 87,
     "metadata": {},
     "output_type": "execute_result"
    }
   ],
   "source": [
    "### CODE CHECK ###\n",
    "\n",
    "theme_by_name('Gear')"
   ]
  },
  {
   "cell_type": "markdown",
   "metadata": {},
   "source": [
    "**Q15:** Create a function called `theme_by_setnum` that takes as input the set_num (as a string) and returns the respective theme name as a string."
   ]
  },
  {
   "cell_type": "code",
   "execution_count": 88,
   "metadata": {},
   "outputs": [],
   "source": [
    "### ENTER CODE HERE ###\n",
    "\n",
    "def theme_by_setnum(set_num):\n",
    "    p2 = theme_name3.loc[theme_name3['set_num'] == set_num]\n",
    "    return p2['name_themes'].max()"
   ]
  },
  {
   "cell_type": "markdown",
   "metadata": {},
   "source": [
    "**Code Check:** Visit the [Sets page](https://rebrickable.com/sets/) from the Rebrickable website and find a set that you like.  Call your `theme_by_setnum()` function on that set and make sure the correct theme name is output."
   ]
  },
  {
   "cell_type": "code",
   "execution_count": null,
   "metadata": {},
   "outputs": [],
   "source": [
    "### CODE CHECK ###"
   ]
  },
  {
   "cell_type": "markdown",
   "metadata": {},
   "source": [
    "**Q16:** Find all the sets named 'Millennium Falcon'. Of these sets, find the set with the largest number of parts.  You **do not** need to save this as `Q16`.  Instead you will use this information for later questions."
   ]
  },
  {
   "cell_type": "code",
   "execution_count": null,
   "metadata": {},
   "outputs": [],
   "source": [
    "### ENTER CODE HERE ###"
   ]
  },
  {
   "cell_type": "markdown",
   "metadata": {},
   "source": [
    "**Q17:** \n",
    "- How many minifigs are contained in the set from `Q16`?  Save this as `Q17` (as an integer).  \n",
    "- Note that there are sometimes multiple versions of a set as shown in the `inventories` table.  This will not matter for this question as there is only one version for the respective set but this should be noted for future questions.\n",
    "- Remember to show your work or your answer will manually get marked as incorrect."
   ]
  },
  {
   "cell_type": "code",
   "execution_count": 89,
   "metadata": {},
   "outputs": [
    {
     "data": {
      "text/plain": [
       "8"
      ]
     },
     "execution_count": 89,
     "metadata": {},
     "output_type": "execute_result"
    }
   ],
   "source": [
    "### ENTER CODE HERE ###\n",
    "figs_sets = pd.merge(sets, inventories , how=\"inner\", left_on=\"set_num\", right_on=\"set_num\")\n",
    "figs_sets2 = pd.merge(figs_sets, inventory_minifigs , how=\"inner\", left_on=\"id\", right_on=\"inventory_id\")\n",
    "figs_sets3 = pd.merge(figs_sets2, minifigs , how=\"inner\", left_on=\"fig_num\", right_on=\"fig_num\")\n",
    "\n",
    "Q17 = figs_sets3[figs_sets3['set_num'] == '75192-1']['fig_num'].count()\n",
    "Q17"
   ]
  },
  {
   "cell_type": "markdown",
   "metadata": {},
   "source": [
    "**Q18:** \n",
    "- Create a function called `get_minifigs` that takes as input a set number (as a string) and a version number (as an integer) and outputs all minifigs from that set / version combination.  \n",
    "- The DataFrame should be in `fig_num` order with the following columns/column names: `set_num`, `fig_num`, `fig_name`, `fig_num_parts`.  \n",
    "- The index should go from 0 to n-1."
   ]
  },
  {
   "cell_type": "code",
   "execution_count": 90,
   "metadata": {},
   "outputs": [],
   "source": [
    "### ENTER CODE HERE ###\n",
    "minifigs.rename(columns={'name': 'fig_name', 'num_parts':'fig_num_parts'}, inplace=True)\n",
    "figs_vents = pd.merge(sets, inventories , how=\"inner\", left_on=\"set_num\", right_on=\"set_num\")\n",
    "figs_vents2 = pd.merge(figs_vents, inventory_minifigs , how=\"inner\", left_on=\"id\", right_on=\"inventory_id\")\n",
    "figs_vents3 = pd.merge(figs_vents2, minifigs , how=\"inner\", left_on=\"fig_num\", right_on=\"fig_num\")\n",
    "\n",
    "def get_minifigs(set_num, version):\n",
    "    p3 = figs_vents3.loc[figs_vents3['set_num'] == set_num].sort_values(by='fig_num')\n",
    "    p4 = p3.loc[figs_vents3['version'] == version].sort_values(by='fig_num')\n",
    "    return p4[['set_num', 'fig_num', 'fig_name', 'fig_num_parts']].reset_index(drop=True)"
   ]
  },
  {
   "cell_type": "markdown",
   "metadata": {},
   "source": [
    "**Q19:** Using the above function, output information about the minifigs from the set discussed in `Q16`.  Save this output as `Q19`."
   ]
  },
  {
   "cell_type": "code",
   "execution_count": 91,
   "metadata": {},
   "outputs": [
    {
     "data": {
      "text/html": [
       "<div>\n",
       "<style scoped>\n",
       "    .dataframe tbody tr th:only-of-type {\n",
       "        vertical-align: middle;\n",
       "    }\n",
       "\n",
       "    .dataframe tbody tr th {\n",
       "        vertical-align: top;\n",
       "    }\n",
       "\n",
       "    .dataframe thead th {\n",
       "        text-align: right;\n",
       "    }\n",
       "</style>\n",
       "<table border=\"1\" class=\"dataframe\">\n",
       "  <thead>\n",
       "    <tr style=\"text-align: right;\">\n",
       "      <th></th>\n",
       "      <th>set_num</th>\n",
       "      <th>fig_num</th>\n",
       "      <th>fig_name</th>\n",
       "      <th>fig_num_parts</th>\n",
       "    </tr>\n",
       "  </thead>\n",
       "  <tbody>\n",
       "    <tr>\n",
       "      <th>0</th>\n",
       "      <td>75192-1</td>\n",
       "      <td>fig-001714</td>\n",
       "      <td>Chewbacca, Dark Brown</td>\n",
       "      <td>3</td>\n",
       "    </tr>\n",
       "    <tr>\n",
       "      <th>1</th>\n",
       "      <td>75192-1</td>\n",
       "      <td>fig-001810</td>\n",
       "      <td>Finn, Black Undershirt</td>\n",
       "      <td>4</td>\n",
       "    </tr>\n",
       "    <tr>\n",
       "      <th>2</th>\n",
       "      <td>75192-1</td>\n",
       "      <td>fig-002057</td>\n",
       "      <td>Rey, Dark Tan Robe</td>\n",
       "      <td>4</td>\n",
       "    </tr>\n",
       "    <tr>\n",
       "      <th>3</th>\n",
       "      <td>75192-1</td>\n",
       "      <td>fig-002514</td>\n",
       "      <td>C-3PO, Pearl Gold, Colorful Wires, Printed Legs</td>\n",
       "      <td>3</td>\n",
       "    </tr>\n",
       "    <tr>\n",
       "      <th>4</th>\n",
       "      <td>75192-1</td>\n",
       "      <td>fig-002544</td>\n",
       "      <td>BB-8</td>\n",
       "      <td>2</td>\n",
       "    </tr>\n",
       "    <tr>\n",
       "      <th>5</th>\n",
       "      <td>75192-1</td>\n",
       "      <td>fig-002549</td>\n",
       "      <td>Princess Leia, Hoth Outfit, White Jacket, Prin...</td>\n",
       "      <td>4</td>\n",
       "    </tr>\n",
       "    <tr>\n",
       "      <th>6</th>\n",
       "      <td>75192-1</td>\n",
       "      <td>fig-002550</td>\n",
       "      <td>Han Solo, Dark Blue Jacket, Dark Brown Legs, P...</td>\n",
       "      <td>4</td>\n",
       "    </tr>\n",
       "    <tr>\n",
       "      <th>7</th>\n",
       "      <td>75192-1</td>\n",
       "      <td>fig-002551</td>\n",
       "      <td>Han Solo, Old, Angry</td>\n",
       "      <td>4</td>\n",
       "    </tr>\n",
       "  </tbody>\n",
       "</table>\n",
       "</div>"
      ],
      "text/plain": [
       "   set_num     fig_num                                           fig_name  \\\n",
       "0  75192-1  fig-001714                              Chewbacca, Dark Brown   \n",
       "1  75192-1  fig-001810                             Finn, Black Undershirt   \n",
       "2  75192-1  fig-002057                                 Rey, Dark Tan Robe   \n",
       "3  75192-1  fig-002514    C-3PO, Pearl Gold, Colorful Wires, Printed Legs   \n",
       "4  75192-1  fig-002544                                               BB-8   \n",
       "5  75192-1  fig-002549  Princess Leia, Hoth Outfit, White Jacket, Prin...   \n",
       "6  75192-1  fig-002550  Han Solo, Dark Blue Jacket, Dark Brown Legs, P...   \n",
       "7  75192-1  fig-002551                               Han Solo, Old, Angry   \n",
       "\n",
       "   fig_num_parts  \n",
       "0              3  \n",
       "1              4  \n",
       "2              4  \n",
       "3              3  \n",
       "4              2  \n",
       "5              4  \n",
       "6              4  \n",
       "7              4  "
      ]
     },
     "execution_count": 91,
     "metadata": {},
     "output_type": "execute_result"
    }
   ],
   "source": [
    "### ENTER CODE HERE ###\n",
    "Q19 = get_minifigs('75192-1', 1)\n",
    "\n",
    "Q19"
   ]
  },
  {
   "cell_type": "markdown",
   "metadata": {},
   "source": [
    "**Code Check:** Make sure that your `get_minifigs()` function works with both version 1 and version 2 of set 10217-1, Harry Potter's Diagon Alley.  Both versions should have 11 minifigs in the DataFrame."
   ]
  },
  {
   "cell_type": "code",
   "execution_count": null,
   "metadata": {},
   "outputs": [],
   "source": [
    "### CODE CHECK ###"
   ]
  },
  {
   "cell_type": "markdown",
   "metadata": {},
   "source": [
    "**Q20:** \n",
    "- Create a function called `minifigs_from_themes` that takes as input a theme id (as an integer) and outputs all the minifigs contained in sets with that theme.  \n",
    "- The DataFrame should be in `fig_num` order with the following columns/column names: `fig_num`, `fig_name`. \n",
    "- The index should go from 0 to n-1.  \n",
    "- Exact duplicates should be removed so that only unique figs are included."
   ]
  },
  {
   "cell_type": "code",
   "execution_count": 92,
   "metadata": {},
   "outputs": [],
   "source": [
    "### ENTER CODE HERE ###\n",
    "def minifigs_from_themes(theme_id):\n",
    "    p5 = figs_vents3.loc[figs_vents3['theme_id'] == theme_id].sort_values(by='fig_num').drop_duplicates(subset='fig_num')\n",
    "    return p5[['fig_num', 'fig_name']].reset_index(drop=True)\n",
    "    "
   ]
  },
  {
   "cell_type": "markdown",
   "metadata": {},
   "source": [
    "**Code Check:** Call the `minifigs_from_themes()` function using the theme number of the set discussed in `Q16`.  There should be 149 minifigs output for that respective theme."
   ]
  },
  {
   "cell_type": "code",
   "execution_count": 93,
   "metadata": {},
   "outputs": [
    {
     "data": {
      "text/html": [
       "<div>\n",
       "<style scoped>\n",
       "    .dataframe tbody tr th:only-of-type {\n",
       "        vertical-align: middle;\n",
       "    }\n",
       "\n",
       "    .dataframe tbody tr th {\n",
       "        vertical-align: top;\n",
       "    }\n",
       "\n",
       "    .dataframe thead th {\n",
       "        text-align: right;\n",
       "    }\n",
       "</style>\n",
       "<table border=\"1\" class=\"dataframe\">\n",
       "  <thead>\n",
       "    <tr style=\"text-align: right;\">\n",
       "      <th></th>\n",
       "      <th>fig_num</th>\n",
       "      <th>fig_name</th>\n",
       "    </tr>\n",
       "  </thead>\n",
       "  <tbody>\n",
       "    <tr>\n",
       "      <th>0</th>\n",
       "      <td>fig-000003</td>\n",
       "      <td>Assassin Droid, White</td>\n",
       "    </tr>\n",
       "    <tr>\n",
       "      <th>1</th>\n",
       "      <td>fig-000124</td>\n",
       "      <td>Chewbacca, Reddish Brown</td>\n",
       "    </tr>\n",
       "    <tr>\n",
       "      <th>2</th>\n",
       "      <td>fig-000144</td>\n",
       "      <td>Luke Skywalker, White Robe, White Legs, Cheek ...</td>\n",
       "    </tr>\n",
       "    <tr>\n",
       "      <th>3</th>\n",
       "      <td>fig-000303</td>\n",
       "      <td>Clone Trooper, Phase I Armor, Brown Eyes</td>\n",
       "    </tr>\n",
       "    <tr>\n",
       "      <th>4</th>\n",
       "      <td>fig-000516</td>\n",
       "      <td>Darth Vader, Light Bluish Gray Skin, Scarred R...</td>\n",
       "    </tr>\n",
       "    <tr>\n",
       "      <th>...</th>\n",
       "      <td>...</td>\n",
       "      <td>...</td>\n",
       "    </tr>\n",
       "    <tr>\n",
       "      <th>144</th>\n",
       "      <td>fig-011942</td>\n",
       "      <td>AT-AT Driver - Light Bluish Grey Helmet, Sand ...</td>\n",
       "    </tr>\n",
       "    <tr>\n",
       "      <th>145</th>\n",
       "      <td>fig-011944</td>\n",
       "      <td>Snowtrooper, White Hips, Reddish Brown Head, F...</td>\n",
       "    </tr>\n",
       "    <tr>\n",
       "      <th>146</th>\n",
       "      <td>fig-011945</td>\n",
       "      <td>Snowtrooper, White Hips, Light Flesh Head, Female</td>\n",
       "    </tr>\n",
       "    <tr>\n",
       "      <th>147</th>\n",
       "      <td>fig-011946</td>\n",
       "      <td>Snowtrooper, White Hips, Light Flesh Head, Off...</td>\n",
       "    </tr>\n",
       "    <tr>\n",
       "      <th>148</th>\n",
       "      <td>fig-011957</td>\n",
       "      <td>Snowtrooper, White Hips, Light Flesh Head, Grin</td>\n",
       "    </tr>\n",
       "  </tbody>\n",
       "</table>\n",
       "<p>149 rows × 2 columns</p>\n",
       "</div>"
      ],
      "text/plain": [
       "        fig_num                                           fig_name\n",
       "0    fig-000003                              Assassin Droid, White\n",
       "1    fig-000124                           Chewbacca, Reddish Brown\n",
       "2    fig-000144  Luke Skywalker, White Robe, White Legs, Cheek ...\n",
       "3    fig-000303           Clone Trooper, Phase I Armor, Brown Eyes\n",
       "4    fig-000516  Darth Vader, Light Bluish Gray Skin, Scarred R...\n",
       "..          ...                                                ...\n",
       "144  fig-011942  AT-AT Driver - Light Bluish Grey Helmet, Sand ...\n",
       "145  fig-011944  Snowtrooper, White Hips, Reddish Brown Head, F...\n",
       "146  fig-011945  Snowtrooper, White Hips, Light Flesh Head, Female\n",
       "147  fig-011946  Snowtrooper, White Hips, Light Flesh Head, Off...\n",
       "148  fig-011957    Snowtrooper, White Hips, Light Flesh Head, Grin\n",
       "\n",
       "[149 rows x 2 columns]"
      ]
     },
     "execution_count": 93,
     "metadata": {},
     "output_type": "execute_result"
    }
   ],
   "source": [
    "### CODE CHECK ###\n",
    "minifigs_from_themes(171)"
   ]
  },
  {
   "cell_type": "markdown",
   "metadata": {},
   "source": [
    "**Q21:** \n",
    "- Create a function called `sets_from_minifig` that takes as input a minifig number (as a string) and returns a list of sets a minifig has appeared in.  \n",
    "- Return a DataFrame (sorted by `set_num` and then by `version`) with the following columns: `set_num`, `version`,`name_sets`, `fig_num`, `fig_name`.  \n",
    "- The index should go from 0 to n-1."
   ]
  },
  {
   "cell_type": "code",
   "execution_count": 94,
   "metadata": {},
   "outputs": [],
   "source": [
    "### ENTER CODE HERE ###     \n",
    "figs_vents4 = figs_vents3.rename(columns={\"name\": \"name_sets\"})\n",
    "figs_vents4\n",
    "def sets_from_minifig(fig_num):\n",
    "    p7 = figs_vents4.loc[figs_vents4['fig_num'] == fig_num].sort_values(by = ['set_num', 'version'])\n",
    "    return p7[['set_num', 'version', 'name_sets', 'fig_num', 'fig_name']].reset_index(drop=True)"
   ]
  },
  {
   "cell_type": "markdown",
   "metadata": {},
   "source": [
    "**Code Check:** Call your `sets_from_minifig()` function on one of the Lego Friends minifigs, Andrea, who has figure number: `fig-001039`.  Your function should return a DataFrame that contains the following sets:\n",
    "\n",
    "- Andrea on the Beach\n",
    "- Birthday Party\n",
    "- City Park Cafe"
   ]
  },
  {
   "cell_type": "code",
   "execution_count": null,
   "metadata": {},
   "outputs": [],
   "source": [
    "### CODE CHECK ###"
   ]
  },
  {
   "cell_type": "markdown",
   "metadata": {},
   "source": [
    "**Q22:** \n",
    "\n",
    "*Note:  Before you begin working on this question, please note that CodeGrade has a 1GB RAM limit.  If you see an `Exit -9` code when submitting your assignment, it is probably due to this RAM limit and previous students had an issue with this question causing too much memory usage.  The biggest thing to think about is to only use the tables that you need to answer for this question.  For instance, you do not need any of the minifigs data since this is not needed for the output and the merging of this data could cause the number of rows to \"explode\" in terms of the total count.  I understand that this can be annoying that we have to work around CodeGrade's limitations, but it is good practice in memory management.*\n",
    "\n",
    "- Create a function called `set_parts` that takes as input the set number (as a string) and version number (as an integer) and outputs a DataFrame with each part in the set.  \n",
    "- The DataFrame should have the following columns/column names: `set_num`, `version`, `name_sets`, `year`, `name_themes`, `part_num`, `name_part`, `name_color`,`quantity`,`is_spare`.  \n",
    "- The Data should be sorted by `part_num` and then `name_color`.  \n",
    "- The index should go from 0 to n-1."
   ]
  },
  {
   "cell_type": "code",
   "execution_count": 95,
   "metadata": {},
   "outputs": [],
   "source": [
    "### ENTER CODE HERE ###\n",
    "sets3 = sets_themes.rename(columns={'name': 'name_sets'})\n",
    "parts3 = parts.rename(columns={'name': 'name_part'})\n",
    "colors3 = colors.rename(columns={'name': 'name_color'})\n",
    "\n",
    "sets_parts = pd.merge(sets3, inventories , how=\"inner\", left_on= \"set_num\", right_on=\"set_num\")\n",
    "sets_parts2 = pd.merge(sets_parts, inventory_parts , how=\"inner\", left_on= \"id_y\", right_on=\"inventory_id\")\n",
    "sets_parts3 = pd.merge(sets_parts2, parts3 , how=\"inner\", left_on= \"part_num\", right_on=\"part_num\")\n",
    "sets_parts4 = pd.merge(sets_parts3, colors3 , how=\"inner\", left_on= \"color_id\", right_on=\"id\")   \n",
    "     \n",
    "\n",
    "def set_parts(set_num,version):\n",
    "    p8 = sets_parts4.loc[sets_parts4['set_num'] == set_num]\n",
    "    p9 = p8.loc[sets_parts4['version'] == version].sort_values(by=['part_num', 'name_color'])\n",
    "    return p9[['set_num', 'version', 'name_sets', 'year', 'name_themes', 'part_num', 'name_part', 'name_color', 'quantity', 'is_spare']].reset_index(drop=True)\n",
    "                                                                                       \n",
    "\n"
   ]
  },
  {
   "cell_type": "markdown",
   "metadata": {},
   "source": [
    "**Code Check**: Using the `set_parts()` function, output a list of parts for the set discussed in `Q16`. There should be a total of 730 rows in the DataFrame, which includes 676 parts and 54 spare parts. You can check the respective page on the rebrickable website to verify these results."
   ]
  },
  {
   "cell_type": "code",
   "execution_count": 96,
   "metadata": {},
   "outputs": [
    {
     "data": {
      "text/html": [
       "<div>\n",
       "<style scoped>\n",
       "    .dataframe tbody tr th:only-of-type {\n",
       "        vertical-align: middle;\n",
       "    }\n",
       "\n",
       "    .dataframe tbody tr th {\n",
       "        vertical-align: top;\n",
       "    }\n",
       "\n",
       "    .dataframe thead th {\n",
       "        text-align: right;\n",
       "    }\n",
       "</style>\n",
       "<table border=\"1\" class=\"dataframe\">\n",
       "  <thead>\n",
       "    <tr style=\"text-align: right;\">\n",
       "      <th></th>\n",
       "      <th>set_num</th>\n",
       "      <th>version</th>\n",
       "      <th>name_sets</th>\n",
       "      <th>year</th>\n",
       "      <th>name_themes</th>\n",
       "      <th>part_num</th>\n",
       "      <th>name_part</th>\n",
       "      <th>name_color</th>\n",
       "      <th>quantity</th>\n",
       "      <th>is_spare</th>\n",
       "    </tr>\n",
       "  </thead>\n",
       "  <tbody>\n",
       "    <tr>\n",
       "      <th>0</th>\n",
       "      <td>75192-1</td>\n",
       "      <td>1</td>\n",
       "      <td>Millennium Falcon</td>\n",
       "      <td>2017</td>\n",
       "      <td>Ultimate Collector Series</td>\n",
       "      <td>10197</td>\n",
       "      <td>Technic Pin Connector Hub with 2 Perpendicular...</td>\n",
       "      <td>Dark Bluish Gray</td>\n",
       "      <td>3</td>\n",
       "      <td>f</td>\n",
       "    </tr>\n",
       "    <tr>\n",
       "      <th>1</th>\n",
       "      <td>75192-1</td>\n",
       "      <td>1</td>\n",
       "      <td>Millennium Falcon</td>\n",
       "      <td>2017</td>\n",
       "      <td>Ultimate Collector Series</td>\n",
       "      <td>10201</td>\n",
       "      <td>Bracket 1 x 2 - 1 x 4 [Rounded Corners]</td>\n",
       "      <td>Light Bluish Gray</td>\n",
       "      <td>12</td>\n",
       "      <td>f</td>\n",
       "    </tr>\n",
       "    <tr>\n",
       "      <th>2</th>\n",
       "      <td>75192-1</td>\n",
       "      <td>1</td>\n",
       "      <td>Millennium Falcon</td>\n",
       "      <td>2017</td>\n",
       "      <td>Ultimate Collector Series</td>\n",
       "      <td>10247</td>\n",
       "      <td>Plate Special 2 x 2 with 1 Pin Hole [Complete ...</td>\n",
       "      <td>Dark Bluish Gray</td>\n",
       "      <td>5</td>\n",
       "      <td>f</td>\n",
       "    </tr>\n",
       "    <tr>\n",
       "      <th>3</th>\n",
       "      <td>75192-1</td>\n",
       "      <td>1</td>\n",
       "      <td>Millennium Falcon</td>\n",
       "      <td>2017</td>\n",
       "      <td>Ultimate Collector Series</td>\n",
       "      <td>10247</td>\n",
       "      <td>Plate Special 2 x 2 with 1 Pin Hole [Complete ...</td>\n",
       "      <td>White</td>\n",
       "      <td>22</td>\n",
       "      <td>f</td>\n",
       "    </tr>\n",
       "    <tr>\n",
       "      <th>4</th>\n",
       "      <td>75192-1</td>\n",
       "      <td>1</td>\n",
       "      <td>Millennium Falcon</td>\n",
       "      <td>2017</td>\n",
       "      <td>Ultimate Collector Series</td>\n",
       "      <td>10314</td>\n",
       "      <td>Brick Curved 1 x 4 x 1 1/3 No Studs, Curved To...</td>\n",
       "      <td>Tan</td>\n",
       "      <td>3</td>\n",
       "      <td>f</td>\n",
       "    </tr>\n",
       "    <tr>\n",
       "      <th>...</th>\n",
       "      <td>...</td>\n",
       "      <td>...</td>\n",
       "      <td>...</td>\n",
       "      <td>...</td>\n",
       "      <td>...</td>\n",
       "      <td>...</td>\n",
       "      <td>...</td>\n",
       "      <td>...</td>\n",
       "      <td>...</td>\n",
       "      <td>...</td>\n",
       "    </tr>\n",
       "    <tr>\n",
       "      <th>727</th>\n",
       "      <td>75192-1</td>\n",
       "      <td>1</td>\n",
       "      <td>Millennium Falcon</td>\n",
       "      <td>2017</td>\n",
       "      <td>Ultimate Collector Series</td>\n",
       "      <td>99563</td>\n",
       "      <td>Tile Special 1 x 2 with Sloped Walls AKA Money...</td>\n",
       "      <td>Light Bluish Gray</td>\n",
       "      <td>70</td>\n",
       "      <td>f</td>\n",
       "    </tr>\n",
       "    <tr>\n",
       "      <th>728</th>\n",
       "      <td>75192-1</td>\n",
       "      <td>1</td>\n",
       "      <td>Millennium Falcon</td>\n",
       "      <td>2017</td>\n",
       "      <td>Ultimate Collector Series</td>\n",
       "      <td>99780</td>\n",
       "      <td>Bracket 1 x 2 - 1 x 2 Inverted</td>\n",
       "      <td>Black</td>\n",
       "      <td>6</td>\n",
       "      <td>f</td>\n",
       "    </tr>\n",
       "    <tr>\n",
       "      <th>729</th>\n",
       "      <td>75192-1</td>\n",
       "      <td>1</td>\n",
       "      <td>Millennium Falcon</td>\n",
       "      <td>2017</td>\n",
       "      <td>Ultimate Collector Series</td>\n",
       "      <td>99780</td>\n",
       "      <td>Bracket 1 x 2 - 1 x 2 Inverted</td>\n",
       "      <td>Dark Bluish Gray</td>\n",
       "      <td>25</td>\n",
       "      <td>f</td>\n",
       "    </tr>\n",
       "    <tr>\n",
       "      <th>730</th>\n",
       "      <td>75192-1</td>\n",
       "      <td>1</td>\n",
       "      <td>Millennium Falcon</td>\n",
       "      <td>2017</td>\n",
       "      <td>Ultimate Collector Series</td>\n",
       "      <td>99781</td>\n",
       "      <td>Bracket 1 x 2 - 1 x 2</td>\n",
       "      <td>Light Bluish Gray</td>\n",
       "      <td>2</td>\n",
       "      <td>f</td>\n",
       "    </tr>\n",
       "    <tr>\n",
       "      <th>731</th>\n",
       "      <td>75192-1</td>\n",
       "      <td>1</td>\n",
       "      <td>Millennium Falcon</td>\n",
       "      <td>2017</td>\n",
       "      <td>Ultimate Collector Series</td>\n",
       "      <td>99784</td>\n",
       "      <td>Bar 1 x 12 with 1 x 2 Plate End with Hollow St...</td>\n",
       "      <td>Light Bluish Gray</td>\n",
       "      <td>3</td>\n",
       "      <td>f</td>\n",
       "    </tr>\n",
       "  </tbody>\n",
       "</table>\n",
       "<p>732 rows × 10 columns</p>\n",
       "</div>"
      ],
      "text/plain": [
       "     set_num  version          name_sets  year                name_themes  \\\n",
       "0    75192-1        1  Millennium Falcon  2017  Ultimate Collector Series   \n",
       "1    75192-1        1  Millennium Falcon  2017  Ultimate Collector Series   \n",
       "2    75192-1        1  Millennium Falcon  2017  Ultimate Collector Series   \n",
       "3    75192-1        1  Millennium Falcon  2017  Ultimate Collector Series   \n",
       "4    75192-1        1  Millennium Falcon  2017  Ultimate Collector Series   \n",
       "..       ...      ...                ...   ...                        ...   \n",
       "727  75192-1        1  Millennium Falcon  2017  Ultimate Collector Series   \n",
       "728  75192-1        1  Millennium Falcon  2017  Ultimate Collector Series   \n",
       "729  75192-1        1  Millennium Falcon  2017  Ultimate Collector Series   \n",
       "730  75192-1        1  Millennium Falcon  2017  Ultimate Collector Series   \n",
       "731  75192-1        1  Millennium Falcon  2017  Ultimate Collector Series   \n",
       "\n",
       "    part_num                                          name_part  \\\n",
       "0      10197  Technic Pin Connector Hub with 2 Perpendicular...   \n",
       "1      10201            Bracket 1 x 2 - 1 x 4 [Rounded Corners]   \n",
       "2      10247  Plate Special 2 x 2 with 1 Pin Hole [Complete ...   \n",
       "3      10247  Plate Special 2 x 2 with 1 Pin Hole [Complete ...   \n",
       "4      10314  Brick Curved 1 x 4 x 1 1/3 No Studs, Curved To...   \n",
       "..       ...                                                ...   \n",
       "727    99563  Tile Special 1 x 2 with Sloped Walls AKA Money...   \n",
       "728    99780                     Bracket 1 x 2 - 1 x 2 Inverted   \n",
       "729    99780                     Bracket 1 x 2 - 1 x 2 Inverted   \n",
       "730    99781                              Bracket 1 x 2 - 1 x 2   \n",
       "731    99784  Bar 1 x 12 with 1 x 2 Plate End with Hollow St...   \n",
       "\n",
       "            name_color  quantity is_spare  \n",
       "0     Dark Bluish Gray         3        f  \n",
       "1    Light Bluish Gray        12        f  \n",
       "2     Dark Bluish Gray         5        f  \n",
       "3                White        22        f  \n",
       "4                  Tan         3        f  \n",
       "..                 ...       ...      ...  \n",
       "727  Light Bluish Gray        70        f  \n",
       "728              Black         6        f  \n",
       "729   Dark Bluish Gray        25        f  \n",
       "730  Light Bluish Gray         2        f  \n",
       "731  Light Bluish Gray         3        f  \n",
       "\n",
       "[732 rows x 10 columns]"
      ]
     },
     "execution_count": 96,
     "metadata": {},
     "output_type": "execute_result"
    }
   ],
   "source": [
    "### CODE CHECK ###\n",
    "set_parts('75192-1',1)"
   ]
  },
  {
   "cell_type": "markdown",
   "metadata": {},
   "source": [
    "  **Q23:**  Get a list of all unique color names, sort by color name, and output as a list.  Save this as `Q23`. "
   ]
  },
  {
   "cell_type": "code",
   "execution_count": 98,
   "metadata": {},
   "outputs": [
    {
     "data": {
      "text/plain": [
       "['Aqua',\n",
       " 'Black',\n",
       " 'Blue',\n",
       " 'Blue-Violet',\n",
       " 'Bright Green',\n",
       " 'Bright Light Blue',\n",
       " 'Bright Light Orange',\n",
       " 'Bright Light Yellow',\n",
       " 'Bright Pink',\n",
       " 'Brown',\n",
       " 'Chrome Antique Brass',\n",
       " 'Chrome Black',\n",
       " 'Chrome Blue',\n",
       " 'Chrome Gold',\n",
       " 'Chrome Green',\n",
       " 'Chrome Pink',\n",
       " 'Chrome Silver',\n",
       " 'Copper',\n",
       " 'Coral',\n",
       " 'Dark Azure',\n",
       " 'Dark Blue',\n",
       " 'Dark Blue-Violet',\n",
       " 'Dark Bluish Gray',\n",
       " 'Dark Brown',\n",
       " 'Dark Flesh',\n",
       " 'Dark Gray',\n",
       " 'Dark Green',\n",
       " 'Dark Orange',\n",
       " 'Dark Pink',\n",
       " 'Dark Purple',\n",
       " 'Dark Red',\n",
       " 'Dark Tan',\n",
       " 'Dark Turquoise',\n",
       " 'Earth Orange',\n",
       " 'Fabuland Brown',\n",
       " 'Fabuland Orange',\n",
       " 'Flat Dark Gold',\n",
       " 'Flat Silver',\n",
       " 'Flesh',\n",
       " 'Glitter Trans-Clear',\n",
       " 'Glitter Trans-Dark Pink',\n",
       " 'Glitter Trans-Light Blue',\n",
       " 'Glitter Trans-Neon Green',\n",
       " 'Glitter Trans-Orange',\n",
       " 'Glitter Trans-Purple',\n",
       " 'Glow In Dark Opaque',\n",
       " 'Glow In Dark Trans',\n",
       " 'Glow in Dark White',\n",
       " 'Green',\n",
       " 'Lavender',\n",
       " 'Light Aqua',\n",
       " 'Light Blue',\n",
       " 'Light Bluish Gray',\n",
       " 'Light Flesh',\n",
       " 'Light Gray',\n",
       " 'Light Green',\n",
       " 'Light Lime',\n",
       " 'Light Orange',\n",
       " 'Light Pink',\n",
       " 'Light Purple',\n",
       " 'Light Salmon',\n",
       " 'Light Turquoise',\n",
       " 'Light Violet',\n",
       " 'Light Yellow',\n",
       " 'Lime',\n",
       " 'Maersk Blue',\n",
       " 'Magenta',\n",
       " 'Medium Azure',\n",
       " 'Medium Blue',\n",
       " 'Medium Dark Flesh',\n",
       " 'Medium Dark Pink',\n",
       " 'Medium Green',\n",
       " 'Medium Lavender',\n",
       " 'Medium Lime',\n",
       " 'Medium Orange',\n",
       " 'Medium Violet',\n",
       " 'Metal Blue',\n",
       " 'Metallic Gold',\n",
       " 'Metallic Green',\n",
       " 'Metallic Silver',\n",
       " 'Milky White',\n",
       " 'Modulex Aqua Green',\n",
       " 'Modulex Black',\n",
       " 'Modulex Brown',\n",
       " 'Modulex Buff',\n",
       " 'Modulex Charcoal Gray',\n",
       " 'Modulex Clear',\n",
       " 'Modulex Foil Dark Blue',\n",
       " 'Modulex Foil Dark Gray',\n",
       " 'Modulex Foil Dark Green',\n",
       " 'Modulex Foil Light Blue',\n",
       " 'Modulex Foil Light Gray',\n",
       " 'Modulex Foil Light Green',\n",
       " 'Modulex Foil Orange',\n",
       " 'Modulex Foil Red',\n",
       " 'Modulex Foil Violet',\n",
       " 'Modulex Foil Yellow',\n",
       " 'Modulex Lemon',\n",
       " 'Modulex Light Bluish Gray',\n",
       " 'Modulex Light Gray',\n",
       " 'Modulex Light Orange',\n",
       " 'Modulex Light Yellow',\n",
       " 'Modulex Medium Blue',\n",
       " 'Modulex Ochre Yellow',\n",
       " 'Modulex Olive Green',\n",
       " 'Modulex Orange',\n",
       " 'Modulex Pastel Blue',\n",
       " 'Modulex Pastel Green',\n",
       " 'Modulex Pink',\n",
       " 'Modulex Pink Red',\n",
       " 'Modulex Red',\n",
       " 'Modulex Teal Blue',\n",
       " 'Modulex Terracotta',\n",
       " 'Modulex Tile Blue',\n",
       " 'Modulex Tile Brown',\n",
       " 'Modulex Tile Gray',\n",
       " 'Modulex Violet',\n",
       " 'Modulex White',\n",
       " 'Olive Green',\n",
       " 'Orange',\n",
       " 'Pastel Blue',\n",
       " 'Pearl Dark Gray',\n",
       " 'Pearl Gold',\n",
       " 'Pearl Light Gold',\n",
       " 'Pearl Light Gray',\n",
       " 'Pearl Very Light Gray',\n",
       " 'Pearl White',\n",
       " 'Pink',\n",
       " 'Purple',\n",
       " 'Red',\n",
       " 'Reddish Brown',\n",
       " 'Reddish Lilac',\n",
       " 'Royal Blue',\n",
       " 'Rust',\n",
       " 'Salmon',\n",
       " 'Sand Blue',\n",
       " 'Sand Green',\n",
       " 'Sand Purple',\n",
       " 'Sand Red',\n",
       " 'Sky Blue',\n",
       " 'Speckle Black-Copper',\n",
       " 'Speckle Black-Gold',\n",
       " 'Speckle Black-Silver',\n",
       " 'Speckle DBGray-Silver',\n",
       " 'Tan',\n",
       " 'Trans-Black',\n",
       " 'Trans-Black IR Lens',\n",
       " 'Trans-Blue Opal',\n",
       " 'Trans-Bright Green',\n",
       " 'Trans-Brown Opal',\n",
       " 'Trans-Clear',\n",
       " 'Trans-Clear Opal',\n",
       " 'Trans-Dark Blue',\n",
       " 'Trans-Dark Blue Opal',\n",
       " 'Trans-Dark Pink',\n",
       " 'Trans-Fire Yellow',\n",
       " 'Trans-Flame Yellowish Orange',\n",
       " 'Trans-Green',\n",
       " 'Trans-Green Opal',\n",
       " 'Trans-Light Blue',\n",
       " 'Trans-Light Bright Green',\n",
       " 'Trans-Light Green',\n",
       " 'Trans-Light Purple',\n",
       " 'Trans-Light Royal Blue',\n",
       " 'Trans-Medium Blue',\n",
       " 'Trans-Medium Reddish Violet Opal',\n",
       " 'Trans-Neon Green',\n",
       " 'Trans-Neon Orange',\n",
       " 'Trans-Neon Yellow',\n",
       " 'Trans-Orange',\n",
       " 'Trans-Pink',\n",
       " 'Trans-Purple',\n",
       " 'Trans-Purple Opal',\n",
       " 'Trans-Red',\n",
       " 'Trans-Very Lt Blue',\n",
       " 'Trans-Yellow',\n",
       " 'Very Light Bluish Gray',\n",
       " 'Very Light Gray',\n",
       " 'Very Light Orange',\n",
       " 'Vibrant Yellow',\n",
       " 'Vintage Blue',\n",
       " 'Vintage Green',\n",
       " 'Vintage Red',\n",
       " 'Vintage Yellow',\n",
       " 'Violet',\n",
       " 'White',\n",
       " 'Yellow',\n",
       " 'Yellowish Green',\n",
       " '[No Color/Any Color]',\n",
       " '[Unknown]']"
      ]
     },
     "execution_count": 98,
     "metadata": {},
     "output_type": "execute_result"
    }
   ],
   "source": [
    "### ENTER CODE HERE ###\n",
    "Q23 = colors['name'].sort_values().unique().tolist()\n",
    "\n",
    "Q23"
   ]
  },
  {
   "cell_type": "markdown",
   "metadata": {},
   "source": [
    "**Q24:** How many total transparent colors are in the `colors` DataFrame?  Save this as `Q24` (as an integer)."
   ]
  },
  {
   "cell_type": "code",
   "execution_count": 99,
   "metadata": {},
   "outputs": [
    {
     "data": {
      "text/plain": [
       "38"
      ]
     },
     "execution_count": 99,
     "metadata": {},
     "output_type": "execute_result"
    }
   ],
   "source": [
    "### ENTER CODE HERE ###\n",
    "Q24 = colors.loc[colors['is_trans'] == 't'].count().max()\n",
    "\n",
    "Q24"
   ]
  },
  {
   "cell_type": "markdown",
   "metadata": {},
   "source": [
    "**Q25:**  \n",
    "- Create a function called `get_part_colors` that takes as input a part number (as a string) and returns a DataFrame of all colors a part has appeared in.  \n",
    "- The DataFrame should be sorted by color id  \n",
    "- The index should go from 0 to n-1."
   ]
  },
  {
   "cell_type": "code",
   "execution_count": 102,
   "metadata": {},
   "outputs": [],
   "source": [
    "### ENTER CODE HERE ###\n",
    "\n",
    "colors2 = colors.rename(columns={'name_color': 'name', 'color_id':'id'})\n",
    "parts_colors = pd.merge(inventory_parts, colors2 , how=\"inner\", left_on= \"color_id\", right_on=\"id\")\n",
    "\n",
    "def get_part_colors(part_num):\n",
    "    p10 = parts_colors.loc[parts_colors['part_num'] == part_num].sort_values(by='id')\n",
    "    return p10[['id', 'name', 'rgb', 'is_trans' ]].drop_duplicates(subset = 'id').reset_index(drop=True)"
   ]
  },
  {
   "cell_type": "code",
   "execution_count": 104,
   "metadata": {},
   "outputs": [
    {
     "data": {
      "text/html": [
       "<div>\n",
       "<style scoped>\n",
       "    .dataframe tbody tr th:only-of-type {\n",
       "        vertical-align: middle;\n",
       "    }\n",
       "\n",
       "    .dataframe tbody tr th {\n",
       "        vertical-align: top;\n",
       "    }\n",
       "\n",
       "    .dataframe thead th {\n",
       "        text-align: right;\n",
       "    }\n",
       "</style>\n",
       "<table border=\"1\" class=\"dataframe\">\n",
       "  <thead>\n",
       "    <tr style=\"text-align: right;\">\n",
       "      <th></th>\n",
       "      <th>id</th>\n",
       "      <th>name</th>\n",
       "      <th>rgb</th>\n",
       "      <th>is_trans</th>\n",
       "    </tr>\n",
       "  </thead>\n",
       "  <tbody>\n",
       "    <tr>\n",
       "      <th>0</th>\n",
       "      <td>0</td>\n",
       "      <td>Black</td>\n",
       "      <td>05131D</td>\n",
       "      <td>f</td>\n",
       "    </tr>\n",
       "    <tr>\n",
       "      <th>1</th>\n",
       "      <td>4</td>\n",
       "      <td>Red</td>\n",
       "      <td>C91A09</td>\n",
       "      <td>f</td>\n",
       "    </tr>\n",
       "    <tr>\n",
       "      <th>2</th>\n",
       "      <td>14</td>\n",
       "      <td>Yellow</td>\n",
       "      <td>F2CD37</td>\n",
       "      <td>f</td>\n",
       "    </tr>\n",
       "    <tr>\n",
       "      <th>3</th>\n",
       "      <td>15</td>\n",
       "      <td>White</td>\n",
       "      <td>FFFFFF</td>\n",
       "      <td>f</td>\n",
       "    </tr>\n",
       "    <tr>\n",
       "      <th>4</th>\n",
       "      <td>19</td>\n",
       "      <td>Tan</td>\n",
       "      <td>E4CD9E</td>\n",
       "      <td>f</td>\n",
       "    </tr>\n",
       "    <tr>\n",
       "      <th>5</th>\n",
       "      <td>71</td>\n",
       "      <td>Light Bluish Gray</td>\n",
       "      <td>A0A5A9</td>\n",
       "      <td>f</td>\n",
       "    </tr>\n",
       "    <tr>\n",
       "      <th>6</th>\n",
       "      <td>72</td>\n",
       "      <td>Dark Bluish Gray</td>\n",
       "      <td>6C6E68</td>\n",
       "      <td>f</td>\n",
       "    </tr>\n",
       "  </tbody>\n",
       "</table>\n",
       "</div>"
      ],
      "text/plain": [
       "   id               name     rgb is_trans\n",
       "0   0              Black  05131D        f\n",
       "1   4                Red  C91A09        f\n",
       "2  14             Yellow  F2CD37        f\n",
       "3  15              White  FFFFFF        f\n",
       "4  19                Tan  E4CD9E        f\n",
       "5  71  Light Bluish Gray  A0A5A9        f\n",
       "6  72   Dark Bluish Gray  6C6E68        f"
      ]
     },
     "execution_count": 104,
     "metadata": {},
     "output_type": "execute_result"
    }
   ],
   "source": []
  },
  {
   "cell_type": "markdown",
   "metadata": {},
   "source": [
    "## Optional Exercises\n",
    "These exercises are optional and are not graded by CodeGrade.  They can be used as extra optional practice.\n",
    "\n",
    "- What minifig has the most number of parts?\n",
    "- What minifig shows up in the most number of sets?\n",
    "- When was the first minifig included in a set?\n",
    "- What set has the most number of minifigs\n",
    "- What part is used the most for all sets?\n",
    "- What color is used the most for all parts?\n",
    "- What part / color combination is used the most for all sets?\n",
    "- What part / color combination is used the least for all sets?\n",
    "- Explore some of your favorite themes and which colors are used the most for those themes.\n",
    "- Plot a line graph of the average number of parts per set per year.\n"
   ]
  }
 ],
 "metadata": {
  "kernelspec": {
   "display_name": "Python 3",
   "language": "python",
   "name": "python3"
  },
  "language_info": {
   "codemirror_mode": {
    "name": "ipython",
    "version": 3
   },
   "file_extension": ".py",
   "mimetype": "text/x-python",
   "name": "python",
   "nbconvert_exporter": "python",
   "pygments_lexer": "ipython3",
   "version": "3.8.8"
  }
 },
 "nbformat": 4,
 "nbformat_minor": 4
}
